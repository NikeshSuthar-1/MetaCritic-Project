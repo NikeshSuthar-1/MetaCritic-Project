{
 "cells": [
  {
   "cell_type": "code",
   "execution_count": 1,
   "metadata": {},
   "outputs": [],
   "source": [
    "# Import packages need to extract information off of website\n",
    "import pandas as pd\n",
    "import requests\n",
    "import time\n",
    "from bs4 import BeautifulSoup as soup"
   ]
  },
  {
   "cell_type": "code",
   "execution_count": 2,
   "metadata": {},
   "outputs": [],
   "source": [
    "#Created a list of platform, for the website url\n",
    "platforms = ['ps4','ps3','ps2','ps','xbox360','xbox','xboxone','switch','wii','ds','gamecube','n64','gba','psp','dreamcast',\n",
    "            'wii-u','3ds','vita','pc','ios']"
   ]
  },
  {
   "cell_type": "code",
   "execution_count": 3,
   "metadata": {},
   "outputs": [],
   "source": [
    "#User agent needed to access metacritic website\n",
    "user_agent = {'User-agent': 'Mozilla/5.0'}"
   ]
  },
  {
   "cell_type": "code",
   "execution_count": 4,
   "metadata": {},
   "outputs": [],
   "source": [
    "#Found of the number of pages needed to be scraped for each platform inquestion\n",
    "plat_pn = {}\n",
    "for items in platforms:\n",
    "    response = requests.get(f'https://www.metacritic.com/browse/games/release-date/available/{items}/metascore',headers=user_agent).content\n",
    "    meta_content = soup(response,'html.parser')\n",
    "    if meta_content.find('div',class_='page_nav') is not None:\n",
    "        plat_pn[items] = meta_content.find('li',class_='page last_page').find('a').text\n",
    "    else:\n",
    "        plat_pn[items] = 1"
   ]
  },
  {
   "cell_type": "code",
   "execution_count": 6,
   "metadata": {
    "scrolled": false
   },
   "outputs": [
    {
     "name": "stdout",
     "output_type": "stream",
     "text": [
      "Page_number:0,ps4 Page_number:1,ps4 Page_number:2,ps4 Page_number:3,ps4 Page_number:4,ps4 Page_number:5,ps4 Page_number:6,ps4 Page_number:7,ps4 Page_number:8,ps4 Page_number:9,ps4 Page_number:10,ps4 Page_number:11,ps4 Page_number:12,ps4 Page_number:13,ps4 Page_number:14,ps4 Page_number:15,ps4 Page_number:16,ps4 Page_number:17,ps4 Page_number:18,ps4 Page_number:19,ps4 Page_number:20,ps4 Page_number:21,ps4 Page_number:22,ps4 Page_number:23,ps4 Page_number:24,ps4  \n",
      "Page_number:0,ps3 Page_number:1,ps3 Page_number:2,ps3 Page_number:3,ps3 Page_number:4,ps3 Page_number:5,ps3 Page_number:6,ps3 Page_number:7,ps3 Page_number:8,ps3 Page_number:9,ps3 Page_number:10,ps3 Page_number:11,ps3 Page_number:12,ps3 Page_number:13,ps3 Page_number:14,ps3  \n",
      "Page_number:0,ps2 Page_number:1,ps2 Page_number:2,ps2 Page_number:3,ps2 Page_number:4,ps2 Page_number:5,ps2 Page_number:6,ps2 Page_number:7,ps2 Page_number:8,ps2 Page_number:9,ps2 Page_number:10,ps2 Page_number:11,ps2 Page_number:12,ps2 Page_number:13,ps2 Page_number:14,ps2 Page_number:15,ps2  \n",
      "Page_number:0,ps Page_number:1,ps Page_number:2,ps  \n",
      "Page_number:0,xbox360 Page_number:1,xbox360 Page_number:2,xbox360 Page_number:3,xbox360 Page_number:4,xbox360 Page_number:5,xbox360 Page_number:6,xbox360 Page_number:7,xbox360 Page_number:8,xbox360 Page_number:9,xbox360 Page_number:10,xbox360 Page_number:11,xbox360 Page_number:12,xbox360 Page_number:13,xbox360 Page_number:14,xbox360 Page_number:15,xbox360 Page_number:16,xbox360 Page_number:17,xbox360 Page_number:18,xbox360  \n",
      "Page_number:0,xbox Page_number:1,xbox Page_number:2,xbox Page_number:3,xbox Page_number:4,xbox Page_number:5,xbox Page_number:6,xbox Page_number:7,xbox Page_number:8,xbox  \n",
      "Page_number:0,xboxone Page_number:1,xboxone Page_number:2,xboxone Page_number:3,xboxone Page_number:4,xboxone Page_number:5,xboxone Page_number:6,xboxone Page_number:7,xboxone Page_number:8,xboxone Page_number:9,xboxone Page_number:10,xboxone Page_number:11,xboxone Page_number:12,xboxone Page_number:13,xboxone Page_number:14,xboxone Page_number:15,xboxone Page_number:16,xboxone Page_number:17,xboxone  \n",
      "Page_number:0,switch Page_number:1,switch Page_number:2,switch Page_number:3,switch Page_number:4,switch Page_number:5,switch Page_number:6,switch Page_number:7,switch Page_number:8,switch Page_number:9,switch Page_number:10,switch Page_number:11,switch Page_number:12,switch Page_number:13,switch Page_number:14,switch Page_number:15,switch Page_number:16,switch Page_number:17,switch  \n",
      "Page_number:0,wii Page_number:1,wii Page_number:2,wii Page_number:3,wii Page_number:4,wii Page_number:5,wii Page_number:6,wii Page_number:7,wii Page_number:8,wii  \n",
      "Page_number:0,ds Page_number:1,ds Page_number:2,ds Page_number:3,ds Page_number:4,ds Page_number:5,ds Page_number:6,ds Page_number:7,ds Page_number:8,ds Page_number:9,ds  \n",
      "Page_number:0,gamecube Page_number:1,gamecube Page_number:2,gamecube Page_number:3,gamecube Page_number:4,gamecube Page_number:5,gamecube  \n",
      "Page_number:0,n64  \n",
      "Page_number:0,gba Page_number:1,gba Page_number:2,gba Page_number:3,gba Page_number:4,gba Page_number:5,gba  \n",
      "Page_number:0,psp Page_number:1,psp Page_number:2,psp Page_number:3,psp Page_number:4,psp Page_number:5,psp Page_number:6,psp  \n",
      "Page_number:0,dreamcast Page_number:1,dreamcast  \n",
      "Page_number:0,wii-u Page_number:1,wii-u Page_number:2,wii-u Page_number:3,wii-u  \n",
      "Page_number:0,3ds Page_number:1,3ds Page_number:2,3ds Page_number:3,3ds Page_number:4,3ds Page_number:5,3ds  \n",
      "Page_number:0,vita Page_number:1,vita Page_number:2,vita Page_number:3,vita Page_number:4,vita  \n",
      "Page_number:0,pc Page_number:1,pc Page_number:2,pc Page_number:3,pc Page_number:4,pc Page_number:5,pc Page_number:6,pc Page_number:7,pc Page_number:8,pc Page_number:9,pc Page_number:10,pc Page_number:11,pc Page_number:12,pc Page_number:13,pc Page_number:14,pc Page_number:15,pc Page_number:16,pc Page_number:17,pc Page_number:18,pc Page_number:19,pc Page_number:20,pc Page_number:21,pc Page_number:22,pc Page_number:23,pc Page_number:24,pc Page_number:25,pc Page_number:26,pc Page_number:27,pc Page_number:28,pc Page_number:29,pc Page_number:30,pc Page_number:31,pc Page_number:32,pc Page_number:33,pc Page_number:34,pc Page_number:35,pc Page_number:36,pc Page_number:37,pc Page_number:38,pc Page_number:39,pc Page_number:40,pc Page_number:41,pc Page_number:42,pc Page_number:43,pc Page_number:44,pc Page_number:45,pc Page_number:46,pc Page_number:47,pc Page_number:48,pc Page_number:49,pc Page_number:50,pc Page_number:51,pc Page_number:52,pc Page_number:53,pc Page_number:54,pc Page_number:55,pc Page_number:56,pc Page_number:57,pc Page_number:58,pc Page_number:59,pc Page_number:60,pc Page_number:61,pc  \n",
      "Page_number:0,ios Page_number:1,ios Page_number:2,ios Page_number:3,ios Page_number:4,ios Page_number:5,ios Page_number:6,ios Page_number:7,ios Page_number:8,ios Page_number:9,ios Page_number:10,ios Page_number:11,ios Page_number:12,ios Page_number:13,ios Page_number:14,ios Page_number:15,ios Page_number:16,ios Page_number:17,ios Page_number:18,ios Page_number:19,ios Page_number:20,ios Page_number:21,ios Page_number:22,ios Page_number:23,ios Page_number:24,ios Page_number:25,ios Page_number:26,ios Page_number:27,ios Page_number:28,ios Page_number:29,ios Page_number:30,ios Page_number:31,ios Page_number:32,ios Page_number:33,ios  \n",
      "Wall time: 15min 17s\n"
     ]
    }
   ],
   "source": [
    "%%time\n",
    "#Created a dictionary where information will be stored in\n",
    "nest = {}\n",
    "#Created a dataframe where all information will be stored.\n",
    "df=pd.DataFrame()\n",
    "#Using a for loop for the keys in the platform/pagenumber dictionary to scrap\n",
    "for keys in plat_pn.keys():\n",
    "    for pn in range(0,int(plat_pn[keys])):\n",
    "        response = requests.get(f'https://www.metacritic.com/browse/games/release-date/available/{keys}/metascore?page={pn}',headers=user_agent).content\n",
    "        print(f'Page_number:{pn+1},{keys}',end = ' ')\n",
    "        meta = soup(response,'html.parser')\n",
    "        #All the relevent information is being appeneded into the nest dictionary\n",
    "        for information in meta.findAll('tr'):\n",
    "            for info in information.findAll('a',class_='title'):\n",
    "                for i in info.findAll('h3'):\n",
    "                    nest['title']=i.text\n",
    "            for info in information.findAll('span',class_='data'):\n",
    "                nest['platform']=info.text.strip()\n",
    "            for info in information.findAll('div',class_='summary'):\n",
    "                nest['summary'] = info.text.strip()\n",
    "            for info in information.findAll('a',class_='metascore_anchor'):\n",
    "                if info.findAll('div',class_='metascore_w large game positive'):\n",
    "                    for i in info.findAll('div',class_='metascore_w large game positive'):\n",
    "                        nest['metascore']= i.text\n",
    "                elif info.findAll('div',class_='metascore_w large game mixed'):\n",
    "                    for i in info.findAll('div',class_='metascore_w large game mixed'):\n",
    "                        nest['metascore']= i.text\n",
    "                else:\n",
    "                    for i in info.findAll('div',class_='metascore_w large game negative'):\n",
    "                        nest['metascore']= i.text\n",
    "            #Appended the nest dictionary into the dataframe.\n",
    "            df = df.append(nest,ignore_index=True)\n",
    "    print(' ')\n",
    "    time.sleep(4)"
   ]
  },
  {
   "cell_type": "code",
   "execution_count": 9,
   "metadata": {},
   "outputs": [],
   "source": [
    "#Dropping all duplicate rows before writing to csv (for some reason it appened twice for each item)\n",
    "df = df.drop_duplicates().reset_index(drop=True)"
   ]
  },
  {
   "cell_type": "code",
   "execution_count": 10,
   "metadata": {},
   "outputs": [],
   "source": [
    "#Wrote information into csv\n",
    "df.to_csv('Data/metascore.csv',index=False,encoding='utf8')"
   ]
  },
  {
   "cell_type": "code",
   "execution_count": 23,
   "metadata": {},
   "outputs": [
    {
     "name": "stdout",
     "output_type": "stream",
     "text": [
      "Ridge Racer Accelerated\n"
     ]
    }
   ],
   "source": [
    "for information in meta.findAll('tr'):\n",
    "    for info in information.findAll('a',class_='title'):\n",
    "        for i in info.findAll('h3'):\n",
    "            print(i.text)\n",
    "    break"
   ]
  }
 ],
 "metadata": {
  "kernelspec": {
   "display_name": "Python 3",
   "language": "python",
   "name": "python3"
  },
  "language_info": {
   "codemirror_mode": {
    "name": "ipython",
    "version": 3
   },
   "file_extension": ".py",
   "mimetype": "text/x-python",
   "name": "python",
   "nbconvert_exporter": "python",
   "pygments_lexer": "ipython3",
   "version": "3.7.6"
  }
 },
 "nbformat": 4,
 "nbformat_minor": 4
}
