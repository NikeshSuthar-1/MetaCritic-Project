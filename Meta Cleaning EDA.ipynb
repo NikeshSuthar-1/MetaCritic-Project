{
 "cells": [
  {
   "cell_type": "code",
   "execution_count": 4,
   "metadata": {},
   "outputs": [],
   "source": [
    "#Imported packages needed for clean up of data and some EDA\n",
    "import numpy as np\n",
    "import pandas as pd\n",
    "import re\n",
    "import matplotlib.pyplot as plt\n",
    "import string\n",
    "import joblib"
   ]
  },
  {
   "cell_type": "code",
   "execution_count": 5,
   "metadata": {},
   "outputs": [
    {
     "data": {
      "text/html": [
       "<div>\n",
       "<style scoped>\n",
       "    .dataframe tbody tr th:only-of-type {\n",
       "        vertical-align: middle;\n",
       "    }\n",
       "\n",
       "    .dataframe tbody tr th {\n",
       "        vertical-align: top;\n",
       "    }\n",
       "\n",
       "    .dataframe thead th {\n",
       "        text-align: right;\n",
       "    }\n",
       "</style>\n",
       "<table border=\"1\" class=\"dataframe\">\n",
       "  <thead>\n",
       "    <tr style=\"text-align: right;\">\n",
       "      <th></th>\n",
       "      <th>metascore</th>\n",
       "      <th>platform</th>\n",
       "      <th>summary</th>\n",
       "      <th>title</th>\n",
       "    </tr>\n",
       "  </thead>\n",
       "  <tbody>\n",
       "    <tr>\n",
       "      <th>0</th>\n",
       "      <td>97</td>\n",
       "      <td>PlayStation 4</td>\n",
       "      <td>Developed by the creators of Grand Theft Auto ...</td>\n",
       "      <td>Red Dead Redemption 2</td>\n",
       "    </tr>\n",
       "    <tr>\n",
       "      <th>1</th>\n",
       "      <td>97</td>\n",
       "      <td>PlayStation 4</td>\n",
       "      <td>The sprawling sun-soaked metropolis of Los San...</td>\n",
       "      <td>Grand Theft Auto V</td>\n",
       "    </tr>\n",
       "    <tr>\n",
       "      <th>2</th>\n",
       "      <td>95</td>\n",
       "      <td>PlayStation 4</td>\n",
       "      <td>Prepare for an all-new RPG experience in Perso...</td>\n",
       "      <td>Persona 5 Royal</td>\n",
       "    </tr>\n",
       "    <tr>\n",
       "      <th>3</th>\n",
       "      <td>95</td>\n",
       "      <td>PlayStation 4</td>\n",
       "      <td>The Last of Us has been rebuilt for the PlaySt...</td>\n",
       "      <td>The Last of Us Remastered</td>\n",
       "    </tr>\n",
       "    <tr>\n",
       "      <th>4</th>\n",
       "      <td>94</td>\n",
       "      <td>PlayStation 4</td>\n",
       "      <td>His vengeance against the gods of Olympus far ...</td>\n",
       "      <td>God of War</td>\n",
       "    </tr>\n",
       "    <tr>\n",
       "      <th>...</th>\n",
       "      <td>...</td>\n",
       "      <td>...</td>\n",
       "      <td>...</td>\n",
       "      <td>...</td>\n",
       "    </tr>\n",
       "    <tr>\n",
       "      <th>25803</th>\n",
       "      <td>33</td>\n",
       "      <td>iOS</td>\n",
       "      <td>Battle against hordes of evil enemies in this ...</td>\n",
       "      <td>The Relic</td>\n",
       "    </tr>\n",
       "    <tr>\n",
       "      <th>25804</th>\n",
       "      <td>33</td>\n",
       "      <td>iOS</td>\n",
       "      <td>EPISODE 1\\n\\nFIGHT LIKE A GIRL!  Join a sexy c...</td>\n",
       "      <td>Pillowfight Girls</td>\n",
       "    </tr>\n",
       "    <tr>\n",
       "      <th>25805</th>\n",
       "      <td>32</td>\n",
       "      <td>iOS</td>\n",
       "      <td>Painkiller Purgatory is the most intense, grip...</td>\n",
       "      <td>Painkiller Purgatory</td>\n",
       "    </tr>\n",
       "    <tr>\n",
       "      <th>25806</th>\n",
       "      <td>25</td>\n",
       "      <td>iOS</td>\n",
       "      <td>FINAL FANTASY ALL THE BRAVEST is a touch-actio...</td>\n",
       "      <td>Final Fantasy: All the Bravest</td>\n",
       "    </tr>\n",
       "    <tr>\n",
       "      <th>25807</th>\n",
       "      <td>24</td>\n",
       "      <td>iOS</td>\n",
       "      <td>How come nobody’s ever tried to be a superhero...</td>\n",
       "      <td>Kick-Ass: The Game</td>\n",
       "    </tr>\n",
       "  </tbody>\n",
       "</table>\n",
       "<p>25808 rows × 4 columns</p>\n",
       "</div>"
      ],
      "text/plain": [
       "       metascore       platform  \\\n",
       "0             97  PlayStation 4   \n",
       "1             97  PlayStation 4   \n",
       "2             95  PlayStation 4   \n",
       "3             95  PlayStation 4   \n",
       "4             94  PlayStation 4   \n",
       "...          ...            ...   \n",
       "25803         33            iOS   \n",
       "25804         33            iOS   \n",
       "25805         32            iOS   \n",
       "25806         25            iOS   \n",
       "25807         24            iOS   \n",
       "\n",
       "                                                 summary  \\\n",
       "0      Developed by the creators of Grand Theft Auto ...   \n",
       "1      The sprawling sun-soaked metropolis of Los San...   \n",
       "2      Prepare for an all-new RPG experience in Perso...   \n",
       "3      The Last of Us has been rebuilt for the PlaySt...   \n",
       "4      His vengeance against the gods of Olympus far ...   \n",
       "...                                                  ...   \n",
       "25803  Battle against hordes of evil enemies in this ...   \n",
       "25804  EPISODE 1\\n\\nFIGHT LIKE A GIRL!  Join a sexy c...   \n",
       "25805  Painkiller Purgatory is the most intense, grip...   \n",
       "25806  FINAL FANTASY ALL THE BRAVEST is a touch-actio...   \n",
       "25807  How come nobody’s ever tried to be a superhero...   \n",
       "\n",
       "                                title  \n",
       "0               Red Dead Redemption 2  \n",
       "1                  Grand Theft Auto V  \n",
       "2                     Persona 5 Royal  \n",
       "3           The Last of Us Remastered  \n",
       "4                          God of War  \n",
       "...                               ...  \n",
       "25803                       The Relic  \n",
       "25804               Pillowfight Girls  \n",
       "25805            Painkiller Purgatory  \n",
       "25806  Final Fantasy: All the Bravest  \n",
       "25807              Kick-Ass: The Game  \n",
       "\n",
       "[25808 rows x 4 columns]"
      ]
     },
     "execution_count": 5,
     "metadata": {},
     "output_type": "execute_result"
    }
   ],
   "source": [
    "# Loaded data into a dataframe\n",
    "df = pd.read_csv('Data/metascore.csv')\n",
    "df"
   ]
  },
  {
   "cell_type": "code",
   "execution_count": 6,
   "metadata": {},
   "outputs": [],
   "source": [
    "# Changed the orientation of the columns\n",
    "df = df[['title','platform','summary','metascore']]"
   ]
  },
  {
   "cell_type": "code",
   "execution_count": 7,
   "metadata": {},
   "outputs": [
    {
     "name": "stdout",
     "output_type": "stream",
     "text": [
      "<class 'pandas.core.frame.DataFrame'>\n",
      "RangeIndex: 25808 entries, 0 to 25807\n",
      "Data columns (total 4 columns):\n",
      " #   Column     Non-Null Count  Dtype \n",
      "---  ------     --------------  ----- \n",
      " 0   title      25808 non-null  object\n",
      " 1   platform   25808 non-null  object\n",
      " 2   summary    25100 non-null  object\n",
      " 3   metascore  25808 non-null  int64 \n",
      "dtypes: int64(1), object(3)\n",
      "memory usage: 806.6+ KB\n"
     ]
    }
   ],
   "source": [
    "df.info()"
   ]
  },
  {
   "cell_type": "code",
   "execution_count": 8,
   "metadata": {},
   "outputs": [
    {
     "data": {
      "text/plain": [
       "title          0\n",
       "platform       0\n",
       "summary      708\n",
       "metascore      0\n",
       "dtype: int64"
      ]
     },
     "execution_count": 8,
     "metadata": {},
     "output_type": "execute_result"
    }
   ],
   "source": [
    "#Checking for any null values in the dataframe\n",
    "df.isna().sum()"
   ]
  },
  {
   "cell_type": "code",
   "execution_count": 9,
   "metadata": {},
   "outputs": [],
   "source": [
    "# Dropped all null values since summary will be one of the main components that will used in the Machine Learning Process\n",
    "df = df.dropna()\n",
    "df = df.reset_index(drop=True)"
   ]
  },
  {
   "cell_type": "code",
   "execution_count": 10,
   "metadata": {},
   "outputs": [
    {
     "data": {
      "text/plain": [
       "array(['PlayStation 4', 'PlayStation 3', 'PlayStation 2', 'PlayStation',\n",
       "       'Xbox 360', 'Xbox', 'Xbox One', 'Switch', 'Wii', 'DS', 'GameCube',\n",
       "       'Game Boy Advance', 'PSP', 'Dreamcast', 'Wii U', '3DS',\n",
       "       'PlayStation Vita', 'PC', 'iOS',\n",
       "       'iOS\\n                                                                                    \\xa0(Apple Arcade)'],\n",
       "      dtype=object)"
      ]
     },
     "execution_count": 10,
     "metadata": {},
     "output_type": "execute_result"
    }
   ],
   "source": [
    "# There is one repeated value that needs to be renamed\n",
    "df.platform.unique()"
   ]
  },
  {
   "cell_type": "code",
   "execution_count": 11,
   "metadata": {},
   "outputs": [],
   "source": [
    "#Found the index of all the platforms that are incorrectly labelled\n",
    "error = df[df['platform'] == 'iOS\\n                                                                                    \\xa0(Apple Arcade)'].index"
   ]
  },
  {
   "cell_type": "code",
   "execution_count": 12,
   "metadata": {},
   "outputs": [],
   "source": [
    "#changed all the incorrect platforms to the proper platform.\n",
    "for x in error:\n",
    "    df.loc[x,'platform'] = 'iOS'"
   ]
  },
  {
   "cell_type": "code",
   "execution_count": 13,
   "metadata": {},
   "outputs": [],
   "source": [
    "# Changing the target to binary instead of mutlitarget options\n",
    "over = df[df['metascore'] >= 75].index\n",
    "under = df[df['metascore']<75].index"
   ]
  },
  {
   "cell_type": "code",
   "execution_count": 14,
   "metadata": {},
   "outputs": [],
   "source": [
    "df2 = df.copy()"
   ]
  },
  {
   "cell_type": "code",
   "execution_count": 15,
   "metadata": {},
   "outputs": [],
   "source": [
    "#Changed the value to 1's and 0's. 1's being the desired outcome.\n",
    "for index in over:\n",
    "    df2.loc[index,'metascore'] = 1\n",
    "\n",
    "for index in under:\n",
    "    df2.loc[index,'metascore'] = 0 "
   ]
  },
  {
   "cell_type": "code",
   "execution_count": 16,
   "metadata": {},
   "outputs": [],
   "source": [
    "def tokener(sentence):\n",
    "    \n",
    "    '''\n",
    "    DOC STRING\n",
    "    \n",
    "    Input: Takes a sentence which will remove punctuation marks, split on the words, and then stem\n",
    "    said word in order to vectorize it after\n",
    "    \n",
    "    Output: List of stemmed word from the sentence.\n",
    "    \n",
    "    \n",
    "    Example: \n",
    "    Input\n",
    "    tokener('With tenure, Suzie’d have all the more leisure for yachting, but her publications are no good')  \n",
    "    \n",
    "    Output\n",
    "    \n",
    "    ['tenur', 'suzi', 'leisur', 'yacht', 'public', 'good']\n",
    "    \n",
    "    '''\n",
    "    \n",
    "    from nltk.corpus import stopwords\n",
    "    from nltk.stem import PorterStemmer \n",
    "    stemmer = PorterStemmer()\n",
    "    import re\n",
    "    \n",
    "    sentence = re.sub('[^a-zA-z0-9]',' ',sentence)\n",
    "    sentence = sentence.lower()\n",
    "    \n",
    "    words = sentence.split(' ')\n",
    "    stemmed_words = []\n",
    "    \n",
    "    for word in words:\n",
    "        if (word!='') and (word not in stopwords.words('english')):\n",
    "            stem_word = stemmer.stem(word)\n",
    "            stemmed_words.append(stem_word)\n",
    "            \n",
    "    complete = ' '.join(stemmed_words)\n",
    "    \n",
    "    return complete"
   ]
  },
  {
   "cell_type": "code",
   "execution_count": 19,
   "metadata": {
    "scrolled": true
   },
   "outputs": [
    {
     "name": "stdout",
     "output_type": "stream",
     "text": [
      "Wall time: 7min 9s\n"
     ]
    }
   ],
   "source": [
    "%%time\n",
    "for index,summary in enumerate(df2.summary):\n",
    "    df2.loc[index,'summary'] = tokener(summary)"
   ]
  },
  {
   "cell_type": "code",
   "execution_count": 20,
   "metadata": {},
   "outputs": [],
   "source": [
    "# Using the vectorizer to find the weights of words.\n",
    "from sklearn.feature_extraction.text import TfidfVectorizer"
   ]
  },
  {
   "cell_type": "code",
   "execution_count": 21,
   "metadata": {
    "scrolled": true
   },
   "outputs": [
    {
     "name": "stdout",
     "output_type": "stream",
     "text": [
      "Wall time: 2.01 s\n"
     ]
    }
   ],
   "source": [
    "%%time\n",
    "# Vectorizing the summary column in the dataframe with a minimum of frequency of 10 \n",
    "tfsummary = TfidfVectorizer(min_df=10).fit(df2.summary)\n",
    "\n",
    "summary = tfsummary.transform(df2.summary)"
   ]
  },
  {
   "cell_type": "code",
   "execution_count": 23,
   "metadata": {},
   "outputs": [
    {
     "data": {
      "text/plain": [
       "['Models/tfidf_vectorizer.plk']"
      ]
     },
     "execution_count": 23,
     "metadata": {},
     "output_type": "execute_result"
    }
   ],
   "source": [
    "joblib.dump(tfsummary,'Models/tfidf_vectorizer.plk')"
   ]
  },
  {
   "cell_type": "code",
   "execution_count": 24,
   "metadata": {
    "scrolled": false
   },
   "outputs": [
    {
     "data": {
      "text/html": [
       "<div>\n",
       "<style scoped>\n",
       "    .dataframe tbody tr th:only-of-type {\n",
       "        vertical-align: middle;\n",
       "    }\n",
       "\n",
       "    .dataframe tbody tr th {\n",
       "        vertical-align: top;\n",
       "    }\n",
       "\n",
       "    .dataframe thead th {\n",
       "        text-align: right;\n",
       "    }\n",
       "</style>\n",
       "<table border=\"1\" class=\"dataframe\">\n",
       "  <thead>\n",
       "    <tr style=\"text-align: right;\">\n",
       "      <th></th>\n",
       "      <th>00</th>\n",
       "      <th>000</th>\n",
       "      <th>007</th>\n",
       "      <th>03</th>\n",
       "      <th>06</th>\n",
       "      <th>07</th>\n",
       "      <th>08</th>\n",
       "      <th>09</th>\n",
       "      <th>10</th>\n",
       "      <th>100</th>\n",
       "      <th>...</th>\n",
       "      <th>zenonia</th>\n",
       "      <th>zeppelin</th>\n",
       "      <th>zero</th>\n",
       "      <th>zeu</th>\n",
       "      <th>zip</th>\n",
       "      <th>zodiac</th>\n",
       "      <th>zombi</th>\n",
       "      <th>zone</th>\n",
       "      <th>zoo</th>\n",
       "      <th>zoom</th>\n",
       "    </tr>\n",
       "  </thead>\n",
       "  <tbody>\n",
       "    <tr>\n",
       "      <th>0</th>\n",
       "      <td>0.0</td>\n",
       "      <td>0.0</td>\n",
       "      <td>0.0</td>\n",
       "      <td>0.0</td>\n",
       "      <td>0.0</td>\n",
       "      <td>0.0</td>\n",
       "      <td>0.0</td>\n",
       "      <td>0.0</td>\n",
       "      <td>0.0</td>\n",
       "      <td>0.0</td>\n",
       "      <td>...</td>\n",
       "      <td>0.0</td>\n",
       "      <td>0.0</td>\n",
       "      <td>0.0</td>\n",
       "      <td>0.0</td>\n",
       "      <td>0.0</td>\n",
       "      <td>0.0</td>\n",
       "      <td>0.0</td>\n",
       "      <td>0.000000</td>\n",
       "      <td>0.0</td>\n",
       "      <td>0.0</td>\n",
       "    </tr>\n",
       "    <tr>\n",
       "      <th>1</th>\n",
       "      <td>0.0</td>\n",
       "      <td>0.0</td>\n",
       "      <td>0.0</td>\n",
       "      <td>0.0</td>\n",
       "      <td>0.0</td>\n",
       "      <td>0.0</td>\n",
       "      <td>0.0</td>\n",
       "      <td>0.0</td>\n",
       "      <td>0.0</td>\n",
       "      <td>0.0</td>\n",
       "      <td>...</td>\n",
       "      <td>0.0</td>\n",
       "      <td>0.0</td>\n",
       "      <td>0.0</td>\n",
       "      <td>0.0</td>\n",
       "      <td>0.0</td>\n",
       "      <td>0.0</td>\n",
       "      <td>0.0</td>\n",
       "      <td>0.000000</td>\n",
       "      <td>0.0</td>\n",
       "      <td>0.0</td>\n",
       "    </tr>\n",
       "    <tr>\n",
       "      <th>2</th>\n",
       "      <td>0.0</td>\n",
       "      <td>0.0</td>\n",
       "      <td>0.0</td>\n",
       "      <td>0.0</td>\n",
       "      <td>0.0</td>\n",
       "      <td>0.0</td>\n",
       "      <td>0.0</td>\n",
       "      <td>0.0</td>\n",
       "      <td>0.0</td>\n",
       "      <td>0.0</td>\n",
       "      <td>...</td>\n",
       "      <td>0.0</td>\n",
       "      <td>0.0</td>\n",
       "      <td>0.0</td>\n",
       "      <td>0.0</td>\n",
       "      <td>0.0</td>\n",
       "      <td>0.0</td>\n",
       "      <td>0.0</td>\n",
       "      <td>0.000000</td>\n",
       "      <td>0.0</td>\n",
       "      <td>0.0</td>\n",
       "    </tr>\n",
       "    <tr>\n",
       "      <th>3</th>\n",
       "      <td>0.0</td>\n",
       "      <td>0.0</td>\n",
       "      <td>0.0</td>\n",
       "      <td>0.0</td>\n",
       "      <td>0.0</td>\n",
       "      <td>0.0</td>\n",
       "      <td>0.0</td>\n",
       "      <td>0.0</td>\n",
       "      <td>0.0</td>\n",
       "      <td>0.0</td>\n",
       "      <td>...</td>\n",
       "      <td>0.0</td>\n",
       "      <td>0.0</td>\n",
       "      <td>0.0</td>\n",
       "      <td>0.0</td>\n",
       "      <td>0.0</td>\n",
       "      <td>0.0</td>\n",
       "      <td>0.0</td>\n",
       "      <td>0.078962</td>\n",
       "      <td>0.0</td>\n",
       "      <td>0.0</td>\n",
       "    </tr>\n",
       "    <tr>\n",
       "      <th>4</th>\n",
       "      <td>0.0</td>\n",
       "      <td>0.0</td>\n",
       "      <td>0.0</td>\n",
       "      <td>0.0</td>\n",
       "      <td>0.0</td>\n",
       "      <td>0.0</td>\n",
       "      <td>0.0</td>\n",
       "      <td>0.0</td>\n",
       "      <td>0.0</td>\n",
       "      <td>0.0</td>\n",
       "      <td>...</td>\n",
       "      <td>0.0</td>\n",
       "      <td>0.0</td>\n",
       "      <td>0.0</td>\n",
       "      <td>0.0</td>\n",
       "      <td>0.0</td>\n",
       "      <td>0.0</td>\n",
       "      <td>0.0</td>\n",
       "      <td>0.000000</td>\n",
       "      <td>0.0</td>\n",
       "      <td>0.0</td>\n",
       "    </tr>\n",
       "    <tr>\n",
       "      <th>...</th>\n",
       "      <td>...</td>\n",
       "      <td>...</td>\n",
       "      <td>...</td>\n",
       "      <td>...</td>\n",
       "      <td>...</td>\n",
       "      <td>...</td>\n",
       "      <td>...</td>\n",
       "      <td>...</td>\n",
       "      <td>...</td>\n",
       "      <td>...</td>\n",
       "      <td>...</td>\n",
       "      <td>...</td>\n",
       "      <td>...</td>\n",
       "      <td>...</td>\n",
       "      <td>...</td>\n",
       "      <td>...</td>\n",
       "      <td>...</td>\n",
       "      <td>...</td>\n",
       "      <td>...</td>\n",
       "      <td>...</td>\n",
       "      <td>...</td>\n",
       "    </tr>\n",
       "    <tr>\n",
       "      <th>25095</th>\n",
       "      <td>0.0</td>\n",
       "      <td>0.0</td>\n",
       "      <td>0.0</td>\n",
       "      <td>0.0</td>\n",
       "      <td>0.0</td>\n",
       "      <td>0.0</td>\n",
       "      <td>0.0</td>\n",
       "      <td>0.0</td>\n",
       "      <td>0.0</td>\n",
       "      <td>0.0</td>\n",
       "      <td>...</td>\n",
       "      <td>0.0</td>\n",
       "      <td>0.0</td>\n",
       "      <td>0.0</td>\n",
       "      <td>0.0</td>\n",
       "      <td>0.0</td>\n",
       "      <td>0.0</td>\n",
       "      <td>0.0</td>\n",
       "      <td>0.000000</td>\n",
       "      <td>0.0</td>\n",
       "      <td>0.0</td>\n",
       "    </tr>\n",
       "    <tr>\n",
       "      <th>25096</th>\n",
       "      <td>0.0</td>\n",
       "      <td>0.0</td>\n",
       "      <td>0.0</td>\n",
       "      <td>0.0</td>\n",
       "      <td>0.0</td>\n",
       "      <td>0.0</td>\n",
       "      <td>0.0</td>\n",
       "      <td>0.0</td>\n",
       "      <td>0.0</td>\n",
       "      <td>0.0</td>\n",
       "      <td>...</td>\n",
       "      <td>0.0</td>\n",
       "      <td>0.0</td>\n",
       "      <td>0.0</td>\n",
       "      <td>0.0</td>\n",
       "      <td>0.0</td>\n",
       "      <td>0.0</td>\n",
       "      <td>0.0</td>\n",
       "      <td>0.000000</td>\n",
       "      <td>0.0</td>\n",
       "      <td>0.0</td>\n",
       "    </tr>\n",
       "    <tr>\n",
       "      <th>25097</th>\n",
       "      <td>0.0</td>\n",
       "      <td>0.0</td>\n",
       "      <td>0.0</td>\n",
       "      <td>0.0</td>\n",
       "      <td>0.0</td>\n",
       "      <td>0.0</td>\n",
       "      <td>0.0</td>\n",
       "      <td>0.0</td>\n",
       "      <td>0.0</td>\n",
       "      <td>0.0</td>\n",
       "      <td>...</td>\n",
       "      <td>0.0</td>\n",
       "      <td>0.0</td>\n",
       "      <td>0.0</td>\n",
       "      <td>0.0</td>\n",
       "      <td>0.0</td>\n",
       "      <td>0.0</td>\n",
       "      <td>0.0</td>\n",
       "      <td>0.000000</td>\n",
       "      <td>0.0</td>\n",
       "      <td>0.0</td>\n",
       "    </tr>\n",
       "    <tr>\n",
       "      <th>25098</th>\n",
       "      <td>0.0</td>\n",
       "      <td>0.0</td>\n",
       "      <td>0.0</td>\n",
       "      <td>0.0</td>\n",
       "      <td>0.0</td>\n",
       "      <td>0.0</td>\n",
       "      <td>0.0</td>\n",
       "      <td>0.0</td>\n",
       "      <td>0.0</td>\n",
       "      <td>0.0</td>\n",
       "      <td>...</td>\n",
       "      <td>0.0</td>\n",
       "      <td>0.0</td>\n",
       "      <td>0.0</td>\n",
       "      <td>0.0</td>\n",
       "      <td>0.0</td>\n",
       "      <td>0.0</td>\n",
       "      <td>0.0</td>\n",
       "      <td>0.000000</td>\n",
       "      <td>0.0</td>\n",
       "      <td>0.0</td>\n",
       "    </tr>\n",
       "    <tr>\n",
       "      <th>25099</th>\n",
       "      <td>0.0</td>\n",
       "      <td>0.0</td>\n",
       "      <td>0.0</td>\n",
       "      <td>0.0</td>\n",
       "      <td>0.0</td>\n",
       "      <td>0.0</td>\n",
       "      <td>0.0</td>\n",
       "      <td>0.0</td>\n",
       "      <td>0.0</td>\n",
       "      <td>0.0</td>\n",
       "      <td>...</td>\n",
       "      <td>0.0</td>\n",
       "      <td>0.0</td>\n",
       "      <td>0.0</td>\n",
       "      <td>0.0</td>\n",
       "      <td>0.0</td>\n",
       "      <td>0.0</td>\n",
       "      <td>0.0</td>\n",
       "      <td>0.000000</td>\n",
       "      <td>0.0</td>\n",
       "      <td>0.0</td>\n",
       "    </tr>\n",
       "  </tbody>\n",
       "</table>\n",
       "<p>25100 rows × 8121 columns</p>\n",
       "</div>"
      ],
      "text/plain": [
       "        00  000  007   03   06   07   08   09   10  100  ...  zenonia  \\\n",
       "0      0.0  0.0  0.0  0.0  0.0  0.0  0.0  0.0  0.0  0.0  ...      0.0   \n",
       "1      0.0  0.0  0.0  0.0  0.0  0.0  0.0  0.0  0.0  0.0  ...      0.0   \n",
       "2      0.0  0.0  0.0  0.0  0.0  0.0  0.0  0.0  0.0  0.0  ...      0.0   \n",
       "3      0.0  0.0  0.0  0.0  0.0  0.0  0.0  0.0  0.0  0.0  ...      0.0   \n",
       "4      0.0  0.0  0.0  0.0  0.0  0.0  0.0  0.0  0.0  0.0  ...      0.0   \n",
       "...    ...  ...  ...  ...  ...  ...  ...  ...  ...  ...  ...      ...   \n",
       "25095  0.0  0.0  0.0  0.0  0.0  0.0  0.0  0.0  0.0  0.0  ...      0.0   \n",
       "25096  0.0  0.0  0.0  0.0  0.0  0.0  0.0  0.0  0.0  0.0  ...      0.0   \n",
       "25097  0.0  0.0  0.0  0.0  0.0  0.0  0.0  0.0  0.0  0.0  ...      0.0   \n",
       "25098  0.0  0.0  0.0  0.0  0.0  0.0  0.0  0.0  0.0  0.0  ...      0.0   \n",
       "25099  0.0  0.0  0.0  0.0  0.0  0.0  0.0  0.0  0.0  0.0  ...      0.0   \n",
       "\n",
       "       zeppelin  zero  zeu  zip  zodiac  zombi      zone  zoo  zoom  \n",
       "0           0.0   0.0  0.0  0.0     0.0    0.0  0.000000  0.0   0.0  \n",
       "1           0.0   0.0  0.0  0.0     0.0    0.0  0.000000  0.0   0.0  \n",
       "2           0.0   0.0  0.0  0.0     0.0    0.0  0.000000  0.0   0.0  \n",
       "3           0.0   0.0  0.0  0.0     0.0    0.0  0.078962  0.0   0.0  \n",
       "4           0.0   0.0  0.0  0.0     0.0    0.0  0.000000  0.0   0.0  \n",
       "...         ...   ...  ...  ...     ...    ...       ...  ...   ...  \n",
       "25095       0.0   0.0  0.0  0.0     0.0    0.0  0.000000  0.0   0.0  \n",
       "25096       0.0   0.0  0.0  0.0     0.0    0.0  0.000000  0.0   0.0  \n",
       "25097       0.0   0.0  0.0  0.0     0.0    0.0  0.000000  0.0   0.0  \n",
       "25098       0.0   0.0  0.0  0.0     0.0    0.0  0.000000  0.0   0.0  \n",
       "25099       0.0   0.0  0.0  0.0     0.0    0.0  0.000000  0.0   0.0  \n",
       "\n",
       "[25100 rows x 8121 columns]"
      ]
     },
     "metadata": {},
     "output_type": "display_data"
    }
   ],
   "source": [
    "# Created a new dataframe of the vectorized words and its weights\n",
    "newdf = pd.DataFrame(columns=tfsummary.get_feature_names(),data=summary.toarray())\n",
    "display(newdf)"
   ]
  },
  {
   "cell_type": "code",
   "execution_count": 25,
   "metadata": {},
   "outputs": [],
   "source": [
    "#Created the final dataframe used in Machine Learning with the vectorzied words, the platforms, and the metascore\n",
    "final=pd.concat([newdf,df2.metascore.astype(int)],axis=1)"
   ]
  },
  {
   "cell_type": "code",
   "execution_count": 26,
   "metadata": {},
   "outputs": [],
   "source": [
    "#Wrote the dataframe to a csv final\n",
    "final.to_csv('Data/FinalMetaScore.csv',index=False,encoding = 'utf8')"
   ]
  },
  {
   "cell_type": "markdown",
   "metadata": {},
   "source": [
    "# EDA of Data"
   ]
  },
  {
   "cell_type": "markdown",
   "metadata": {},
   "source": [
    "## Metascore Frequency of all Games in DataFrame"
   ]
  },
  {
   "cell_type": "code",
   "execution_count": 27,
   "metadata": {},
   "outputs": [
    {
     "data": {
      "image/png": "[encoded data removed]",
      "text/plain": [
       "<Figure size 720x720 with 1 Axes>"
      ]
     },
     "metadata": {
      "needs_background": "light"
     },
     "output_type": "display_data"
    }
   ],
   "source": [
    "plt.figure(figsize=(10,10))\n",
    "plt.hist(x=df.metascore,bins=15)\n",
    "plt.xlabel('Metascore')\n",
    "plt.ylabel('Frequency')\n",
    "plt.title('Metascore Frequency')\n",
    "plt.show()"
   ]
  },
  {
   "cell_type": "markdown",
   "metadata": {},
   "source": [
    "## Total number of game per platform "
   ]
  },
  {
   "cell_type": "code",
   "execution_count": 28,
   "metadata": {},
   "outputs": [
    {
     "data": {
      "image/png": "[encoded data removed]",
      "text/plain": [
       "<Figure size 720x720 with 1 Axes>"
      ]
     },
     "metadata": {
      "needs_background": "light"
     },
     "output_type": "display_data"
    }
   ],
   "source": [
    "platforms = df.platform.str.get_dummies()\n",
    "plt.figure(figsize=(10,10))\n",
    "plt.bar(height = platforms.sum(),x = platforms.sum().index)\n",
    "plt.title('Total Count of Platforms')\n",
    "plt.xticks(rotation = 60)\n",
    "plt.xlabel('Platform Names')\n",
    "plt.ylabel('Total Number of Platforms')\n",
    "plt.show()"
   ]
  },
  {
   "cell_type": "markdown",
   "metadata": {},
   "source": [
    "##  Mean Metascore per Platform"
   ]
  },
  {
   "cell_type": "code",
   "execution_count": 29,
   "metadata": {},
   "outputs": [
    {
     "data": {
      "image/png": "[encoded data removed]",
      "text/plain": [
       "<Figure size 720x720 with 1 Axes>"
      ]
     },
     "metadata": {
      "needs_background": "light"
     },
     "output_type": "display_data"
    }
   ],
   "source": [
    "platform_mean = df.groupby('platform').mean().sort_values(by='platform').reset_index()\n",
    "\n",
    "plt.figure(figsize=(10,10))\n",
    "plt.bar(platform_mean['platform'],platform_mean['metascore'])\n",
    "plt.xticks(rotation=75)\n",
    "plt.title('Mean Metascore per Platform')\n",
    "plt.xlabel('Platforms')\n",
    "plt.ylabel('Metascore')\n",
    "plt.show()"
   ]
  },
  {
   "cell_type": "markdown",
   "metadata": {},
   "source": [
    "## Top 50 words by Weights"
   ]
  },
  {
   "cell_type": "code",
   "execution_count": 30,
   "metadata": {},
   "outputs": [
    {
     "data": {
      "image/png": "[encoded data removed]",
      "text/plain": [
       "<Figure size 1080x720 with 1 Axes>"
      ]
     },
     "metadata": {
      "needs_background": "light"
     },
     "output_type": "display_data"
    }
   ],
   "source": [
    "words = newdf.sum().sort_values(ascending = False)[0:50]\n",
    "\n",
    "plt.figure(figsize=(15,10))\n",
    "plt.bar(words.index,height=words)\n",
    "plt.xticks(rotation=75)\n",
    "plt.title('Top 50 Highly Weighted Stemmed Words')\n",
    "plt.xlabel('Words')\n",
    "plt.ylabel('Count')\n",
    "plt.show()"
   ]
  }
 ],
 "metadata": {
  "kernelspec": {
   "display_name": "Python 3",
   "language": "python",
   "name": "python3"
  },
  "language_info": {
   "codemirror_mode": {
    "name": "ipython",
    "version": 3
   },
   "file_extension": ".py",
   "mimetype": "text/x-python",
   "name": "python",
   "nbconvert_exporter": "python",
   "pygments_lexer": "ipython3",
   "version": "3.7.6"
  }
 },
 "nbformat": 4,
 "nbformat_minor": 4
}
