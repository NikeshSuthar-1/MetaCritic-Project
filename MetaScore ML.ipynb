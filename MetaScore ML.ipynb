{
 "cells": [
  {
   "cell_type": "code",
   "execution_count": 2,
   "metadata": {},
   "outputs": [],
   "source": [
    "#Loaded Packeages needed for the modeling part\n",
    "import pandas as pd\n",
    "import numpy as np\n",
    "import matplotlib.pyplot as plt\n",
    "from sklearn.preprocessing import StandardScaler\n",
    "from sklearn.linear_model import LogisticRegression\n",
    "from sklearn.model_selection import cross_val_score\n",
    "from sklearn.model_selection import train_test_split\n",
    "from sklearn.metrics import accuracy_score\n",
    "from sklearn.metrics import confusion_matrix\n",
    "from sklearn.metrics import classification_report\n",
    "from sklearn.svm import LinearSVC\n",
    "import joblib"
   ]
  },
  {
   "cell_type": "code",
   "execution_count": 3,
   "metadata": {
    "scrolled": false
   },
   "outputs": [
    {
     "data": {
      "text/html": [
       "<div>\n",
       "<style scoped>\n",
       "    .dataframe tbody tr th:only-of-type {\n",
       "        vertical-align: middle;\n",
       "    }\n",
       "\n",
       "    .dataframe tbody tr th {\n",
       "        vertical-align: top;\n",
       "    }\n",
       "\n",
       "    .dataframe thead th {\n",
       "        text-align: right;\n",
       "    }\n",
       "</style>\n",
       "<table border=\"1\" class=\"dataframe\">\n",
       "  <thead>\n",
       "    <tr style=\"text-align: right;\">\n",
       "      <th></th>\n",
       "      <th>00</th>\n",
       "      <th>000</th>\n",
       "      <th>007</th>\n",
       "      <th>03</th>\n",
       "      <th>06</th>\n",
       "      <th>07</th>\n",
       "      <th>08</th>\n",
       "      <th>09</th>\n",
       "      <th>10</th>\n",
       "      <th>100</th>\n",
       "      <th>...</th>\n",
       "      <th>zeppelin</th>\n",
       "      <th>zero</th>\n",
       "      <th>zeu</th>\n",
       "      <th>zip</th>\n",
       "      <th>zodiac</th>\n",
       "      <th>zombi</th>\n",
       "      <th>zone</th>\n",
       "      <th>zoo</th>\n",
       "      <th>zoom</th>\n",
       "      <th>metascore</th>\n",
       "    </tr>\n",
       "  </thead>\n",
       "  <tbody>\n",
       "    <tr>\n",
       "      <th>0</th>\n",
       "      <td>0.0</td>\n",
       "      <td>0.0</td>\n",
       "      <td>0.0</td>\n",
       "      <td>0.0</td>\n",
       "      <td>0.0</td>\n",
       "      <td>0.0</td>\n",
       "      <td>0.0</td>\n",
       "      <td>0.0</td>\n",
       "      <td>0.0</td>\n",
       "      <td>0.0</td>\n",
       "      <td>...</td>\n",
       "      <td>0.0</td>\n",
       "      <td>0.0</td>\n",
       "      <td>0.0</td>\n",
       "      <td>0.0</td>\n",
       "      <td>0.0</td>\n",
       "      <td>0.0</td>\n",
       "      <td>0.000000</td>\n",
       "      <td>0.0</td>\n",
       "      <td>0.0</td>\n",
       "      <td>1</td>\n",
       "    </tr>\n",
       "    <tr>\n",
       "      <th>1</th>\n",
       "      <td>0.0</td>\n",
       "      <td>0.0</td>\n",
       "      <td>0.0</td>\n",
       "      <td>0.0</td>\n",
       "      <td>0.0</td>\n",
       "      <td>0.0</td>\n",
       "      <td>0.0</td>\n",
       "      <td>0.0</td>\n",
       "      <td>0.0</td>\n",
       "      <td>0.0</td>\n",
       "      <td>...</td>\n",
       "      <td>0.0</td>\n",
       "      <td>0.0</td>\n",
       "      <td>0.0</td>\n",
       "      <td>0.0</td>\n",
       "      <td>0.0</td>\n",
       "      <td>0.0</td>\n",
       "      <td>0.000000</td>\n",
       "      <td>0.0</td>\n",
       "      <td>0.0</td>\n",
       "      <td>1</td>\n",
       "    </tr>\n",
       "    <tr>\n",
       "      <th>2</th>\n",
       "      <td>0.0</td>\n",
       "      <td>0.0</td>\n",
       "      <td>0.0</td>\n",
       "      <td>0.0</td>\n",
       "      <td>0.0</td>\n",
       "      <td>0.0</td>\n",
       "      <td>0.0</td>\n",
       "      <td>0.0</td>\n",
       "      <td>0.0</td>\n",
       "      <td>0.0</td>\n",
       "      <td>...</td>\n",
       "      <td>0.0</td>\n",
       "      <td>0.0</td>\n",
       "      <td>0.0</td>\n",
       "      <td>0.0</td>\n",
       "      <td>0.0</td>\n",
       "      <td>0.0</td>\n",
       "      <td>0.000000</td>\n",
       "      <td>0.0</td>\n",
       "      <td>0.0</td>\n",
       "      <td>1</td>\n",
       "    </tr>\n",
       "    <tr>\n",
       "      <th>3</th>\n",
       "      <td>0.0</td>\n",
       "      <td>0.0</td>\n",
       "      <td>0.0</td>\n",
       "      <td>0.0</td>\n",
       "      <td>0.0</td>\n",
       "      <td>0.0</td>\n",
       "      <td>0.0</td>\n",
       "      <td>0.0</td>\n",
       "      <td>0.0</td>\n",
       "      <td>0.0</td>\n",
       "      <td>...</td>\n",
       "      <td>0.0</td>\n",
       "      <td>0.0</td>\n",
       "      <td>0.0</td>\n",
       "      <td>0.0</td>\n",
       "      <td>0.0</td>\n",
       "      <td>0.0</td>\n",
       "      <td>0.078962</td>\n",
       "      <td>0.0</td>\n",
       "      <td>0.0</td>\n",
       "      <td>1</td>\n",
       "    </tr>\n",
       "    <tr>\n",
       "      <th>4</th>\n",
       "      <td>0.0</td>\n",
       "      <td>0.0</td>\n",
       "      <td>0.0</td>\n",
       "      <td>0.0</td>\n",
       "      <td>0.0</td>\n",
       "      <td>0.0</td>\n",
       "      <td>0.0</td>\n",
       "      <td>0.0</td>\n",
       "      <td>0.0</td>\n",
       "      <td>0.0</td>\n",
       "      <td>...</td>\n",
       "      <td>0.0</td>\n",
       "      <td>0.0</td>\n",
       "      <td>0.0</td>\n",
       "      <td>0.0</td>\n",
       "      <td>0.0</td>\n",
       "      <td>0.0</td>\n",
       "      <td>0.000000</td>\n",
       "      <td>0.0</td>\n",
       "      <td>0.0</td>\n",
       "      <td>1</td>\n",
       "    </tr>\n",
       "  </tbody>\n",
       "</table>\n",
       "<p>5 rows × 8122 columns</p>\n",
       "</div>"
      ],
      "text/plain": [
       "    00  000  007   03   06   07   08   09   10  100  ...  zeppelin  zero  zeu  \\\n",
       "0  0.0  0.0  0.0  0.0  0.0  0.0  0.0  0.0  0.0  0.0  ...       0.0   0.0  0.0   \n",
       "1  0.0  0.0  0.0  0.0  0.0  0.0  0.0  0.0  0.0  0.0  ...       0.0   0.0  0.0   \n",
       "2  0.0  0.0  0.0  0.0  0.0  0.0  0.0  0.0  0.0  0.0  ...       0.0   0.0  0.0   \n",
       "3  0.0  0.0  0.0  0.0  0.0  0.0  0.0  0.0  0.0  0.0  ...       0.0   0.0  0.0   \n",
       "4  0.0  0.0  0.0  0.0  0.0  0.0  0.0  0.0  0.0  0.0  ...       0.0   0.0  0.0   \n",
       "\n",
       "   zip  zodiac  zombi      zone  zoo  zoom  metascore  \n",
       "0  0.0     0.0    0.0  0.000000  0.0   0.0          1  \n",
       "1  0.0     0.0    0.0  0.000000  0.0   0.0          1  \n",
       "2  0.0     0.0    0.0  0.000000  0.0   0.0          1  \n",
       "3  0.0     0.0    0.0  0.078962  0.0   0.0          1  \n",
       "4  0.0     0.0    0.0  0.000000  0.0   0.0          1  \n",
       "\n",
       "[5 rows x 8122 columns]"
      ]
     },
     "execution_count": 3,
     "metadata": {},
     "output_type": "execute_result"
    }
   ],
   "source": [
    "# Read in the csv file for machine learning \n",
    "df = pd.read_csv('Data/FinalMetaScore.csv',encoding='utf8')\n",
    "df.head()"
   ]
  },
  {
   "cell_type": "code",
   "execution_count": 4,
   "metadata": {},
   "outputs": [],
   "source": [
    "#Seperated the X and y values\n",
    "X = df.drop(columns='metascore')\n",
    "y = df.metascore"
   ]
  },
  {
   "cell_type": "code",
   "execution_count": 5,
   "metadata": {},
   "outputs": [],
   "source": [
    "#Useed a train test split on the data for training purposes\n",
    "X_remain,X_test,y_remain,y_test = train_test_split(X,y,test_size=.3,random_state=1)"
   ]
  },
  {
   "cell_type": "code",
   "execution_count": 6,
   "metadata": {},
   "outputs": [],
   "source": [
    "#By using a Standard Scaler, scaled the data\n",
    "SS = StandardScaler(with_mean=False)\n",
    "SS.fit(X_remain)\n",
    "XremainS = SS.transform(X_remain)\n",
    "XtestS = SS.transform(X_test)"
   ]
  },
  {
   "cell_type": "code",
   "execution_count": 7,
   "metadata": {},
   "outputs": [
    {
     "data": {
      "text/plain": [
       "['Models/StandardScaler.plk']"
      ]
     },
     "execution_count": 7,
     "metadata": {},
     "output_type": "execute_result"
    }
   ],
   "source": [
    "#Dumped the model for future use\n",
    "joblib.dump(SS,'Models/StandardScaler.plk')"
   ]
  },
  {
   "cell_type": "code",
   "execution_count": 8,
   "metadata": {
    "scrolled": false
   },
   "outputs": [
    {
     "name": "stdout",
     "output_type": "stream",
     "text": [
      "0.9754126351735913\n",
      "0.649003984063745\n",
      "Wall time: 2min 59s\n"
     ]
    }
   ],
   "source": [
    "%%time\n",
    "#Initial test of Log model baseline\n",
    "logSS = LogisticRegression(n_jobs=-1,max_iter=100)\n",
    "logSS.fit(XremainS,y_remain)\n",
    "print(logSS.score(XremainS,y_remain))\n",
    "print(logSS.score(XtestS,y_test))"
   ]
  },
  {
   "cell_type": "code",
   "execution_count": 9,
   "metadata": {
    "scrolled": false
   },
   "outputs": [
    {
     "name": "stdout",
     "output_type": "stream",
     "text": [
      "1e-07\n",
      "1e-06\n",
      "1e-05\n",
      "0.0001\n",
      "0.001\n",
      "0.01\n",
      "0.1\n",
      "1\n",
      "10\n",
      "100\n",
      "1000\n",
      "10000\n",
      "100000\n",
      "1000000\n",
      "10000000\n"
     ]
    },
    {
     "data": {
      "image/png": "[encoded data removed]",
      "text/plain": [
       "<Figure size 432x288 with 1 Axes>"
      ]
     },
     "metadata": {
      "needs_background": "light"
     },
     "output_type": "display_data"
    },
    {
     "name": "stdout",
     "output_type": "stream",
     "text": [
      "Wall time: 6min 49s\n"
     ]
    }
   ],
   "source": [
    "%%time\n",
    "#Using Cross Validation score, found the mean score of 5 loops of the train data at different C values too see which C\n",
    "#value gives the best score.\n",
    "C = [10**x for x in range(-7,8)]\n",
    "score = []\n",
    "for c in C:\n",
    "    print(c)\n",
    "    logSSCV = LogisticRegression(C=c,n_jobs=-1,max_iter = 100)\n",
    "    scores = np.mean(cross_val_score(logSSCV,XremainS,y_remain,cv=5,n_jobs=-1))\n",
    "    score.append(np.mean(scores))\n",
    "    \n",
    "#Plotted the mean cross val score against the C values.\n",
    "plt.figure()\n",
    "plt.plot(C,score,marker ='.',label = 'Cross Val Scores')\n",
    "plt.xscale('log')\n",
    "plt.legend()\n",
    "plt.title('Hypertuning the C Parameter of Log Model')\n",
    "plt.xlabel('C Parameter')\n",
    "plt.ylabel('Mean Cross Validation Scores')\n",
    "plt.grid()\n",
    "plt.show()"
   ]
  },
  {
   "cell_type": "markdown",
   "metadata": {},
   "source": [
    "C = 0.0001 gives the best mean cross validation score"
   ]
  },
  {
   "cell_type": "code",
   "execution_count": 10,
   "metadata": {},
   "outputs": [
    {
     "name": "stdout",
     "output_type": "stream",
     "text": [
      "Wall time: 1min 48s\n"
     ]
    }
   ],
   "source": [
    "%%time\n",
    "#Fitted a final model for the log model.\n",
    "log_final = LogisticRegression(C=0.0001,n_jobs=-1,max_iter=100)\n",
    "log_final.fit(XremainS,y_remain)\n",
    "log_y_pred = log_final.predict(XtestS)"
   ]
  },
  {
   "cell_type": "code",
   "execution_count": 20,
   "metadata": {},
   "outputs": [
    {
     "data": {
      "text/html": [
       "<div>\n",
       "<style scoped>\n",
       "    .dataframe tbody tr th:only-of-type {\n",
       "        vertical-align: middle;\n",
       "    }\n",
       "\n",
       "    .dataframe tbody tr th {\n",
       "        vertical-align: top;\n",
       "    }\n",
       "\n",
       "    .dataframe thead th {\n",
       "        text-align: right;\n",
       "    }\n",
       "</style>\n",
       "<table border=\"1\" class=\"dataframe\">\n",
       "  <thead>\n",
       "    <tr style=\"text-align: right;\">\n",
       "      <th></th>\n",
       "      <th>Predicted Low Rating</th>\n",
       "      <th>Predicted High Rating</th>\n",
       "    </tr>\n",
       "  </thead>\n",
       "  <tbody>\n",
       "    <tr>\n",
       "      <th>True Low Rating</th>\n",
       "      <td>3845</td>\n",
       "      <td>661</td>\n",
       "    </tr>\n",
       "    <tr>\n",
       "      <th>True Higher Rating</th>\n",
       "      <td>1760</td>\n",
       "      <td>1264</td>\n",
       "    </tr>\n",
       "  </tbody>\n",
       "</table>\n",
       "</div>"
      ],
      "text/plain": [
       "                    Predicted Low Rating  Predicted High Rating\n",
       "True Low Rating                     3845                    661\n",
       "True Higher Rating                  1760                   1264"
      ]
     },
     "execution_count": 20,
     "metadata": {},
     "output_type": "execute_result"
    }
   ],
   "source": [
    "pd.DataFrame(confusion_matrix(y_test,log_y_pred),columns=['Predicted Low Rating','Predicted High Rating'],index=['True Low Rating','True Higher Rating'])"
   ]
  },
  {
   "cell_type": "code",
   "execution_count": 11,
   "metadata": {},
   "outputs": [
    {
     "name": "stdout",
     "output_type": "stream",
     "text": [
      "The log model accuarcy score was found to be: 67.84860557768924\n"
     ]
    }
   ],
   "source": [
    "#Found the accuracy score of the log model from the Xtest portion.\n",
    "log_acc_score = accuracy_score(y_test,log_y_pred)\n",
    "print(f'The log model accuarcy score was found to be: {log_acc_score*100}')"
   ]
  },
  {
   "cell_type": "code",
   "execution_count": 12,
   "metadata": {},
   "outputs": [
    {
     "name": "stderr",
     "output_type": "stream",
     "text": [
      "C:\\Users\\Nikesh\\anaconda3\\lib\\site-packages\\sklearn\\svm\\_base.py:977: ConvergenceWarning: Liblinear failed to converge, increase the number of iterations.\n",
      "  \"the number of iterations.\", ConvergenceWarning)\n"
     ]
    },
    {
     "name": "stdout",
     "output_type": "stream",
     "text": [
      "0.947011952191235\n",
      "0.6350597609561753\n",
      "Wall time: 3min 24s\n"
     ]
    }
   ],
   "source": [
    "%%time\n",
    "#Finding the baseline of the LinearSVC model \n",
    "lsvm = LinearSVC(max_iter = 100000)\n",
    "lsvm.fit(XremainS,y_remain)\n",
    "print(lsvm.score(XremainS,y_remain))\n",
    "print(lsvm.score(XtestS,y_test))"
   ]
  },
  {
   "cell_type": "code",
   "execution_count": 13,
   "metadata": {
    "scrolled": false
   },
   "outputs": [
    {
     "name": "stdout",
     "output_type": "stream",
     "text": [
      "1e-07\n",
      "1e-06\n",
      "1e-05\n",
      "0.0001\n",
      "0.001\n",
      "0.01\n",
      "0.1\n",
      "1\n",
      "10\n",
      "100\n",
      "1000\n",
      "10000\n",
      "100000\n",
      "1000000\n",
      "10000000\n"
     ]
    },
    {
     "data": {
      "image/png": "[encoded data removed]",
      "text/plain": [
       "<Figure size 432x288 with 1 Axes>"
      ]
     },
     "metadata": {
      "needs_background": "light"
     },
     "output_type": "display_data"
    },
    {
     "name": "stdout",
     "output_type": "stream",
     "text": [
      "Wall time: 2min 48s\n"
     ]
    }
   ],
   "source": [
    "%%time\n",
    "#Using cross validation score to find the best C value for the model\n",
    "C = [10**x for x in range(-7,8)]\n",
    "score = []\n",
    "for c in C:\n",
    "    print(c)\n",
    "    lsvm2 = LinearSVC(C=c,max_iter = 5000)\n",
    "    scores = np.mean(cross_val_score(lsvm2,XremainS,y_remain,cv=5,n_jobs=-1))\n",
    "    score.append(np.mean(scores))\n",
    "\n",
    "#plotted cross val scores against the C values \n",
    "plt.figure()\n",
    "plt.plot(C,score,marker ='.',label = 'Cross Val Scores')\n",
    "plt.xscale('log')\n",
    "plt.legend()\n",
    "plt.title('Hypertuning the C Parameter of LinearSVC Model')\n",
    "plt.xlabel('C Parameter')\n",
    "plt.ylabel('Mean Cross Validation Scores')\n",
    "plt.grid()\n",
    "plt.show()"
   ]
  },
  {
   "cell_type": "markdown",
   "metadata": {},
   "source": [
    "The highest mean cross val score was found at C = 0.00001 "
   ]
  },
  {
   "cell_type": "code",
   "execution_count": 14,
   "metadata": {},
   "outputs": [],
   "source": [
    "#Fitting the final mode for LinearSVC\n",
    "lsvm_final = LinearSVC(C=0.00001,max_iter=5000)\n",
    "lsvm_final.fit(XremainS,y_remain)\n",
    "lsvm_y_pred = lsvm_final.predict(XtestS)"
   ]
  },
  {
   "cell_type": "code",
   "execution_count": 19,
   "metadata": {},
   "outputs": [
    {
     "data": {
      "text/html": [
       "<div>\n",
       "<style scoped>\n",
       "    .dataframe tbody tr th:only-of-type {\n",
       "        vertical-align: middle;\n",
       "    }\n",
       "\n",
       "    .dataframe tbody tr th {\n",
       "        vertical-align: top;\n",
       "    }\n",
       "\n",
       "    .dataframe thead th {\n",
       "        text-align: right;\n",
       "    }\n",
       "</style>\n",
       "<table border=\"1\" class=\"dataframe\">\n",
       "  <thead>\n",
       "    <tr style=\"text-align: right;\">\n",
       "      <th></th>\n",
       "      <th>Predicted Low Rating</th>\n",
       "      <th>Predicted High Rating</th>\n",
       "    </tr>\n",
       "  </thead>\n",
       "  <tbody>\n",
       "    <tr>\n",
       "      <th>True Low Rating</th>\n",
       "      <td>3761</td>\n",
       "      <td>745</td>\n",
       "    </tr>\n",
       "    <tr>\n",
       "      <th>True Higher Rating</th>\n",
       "      <td>1680</td>\n",
       "      <td>1344</td>\n",
       "    </tr>\n",
       "  </tbody>\n",
       "</table>\n",
       "</div>"
      ],
      "text/plain": [
       "                    Predicted Low Rating  Predicted High Rating\n",
       "True Low Rating                     3761                    745\n",
       "True Higher Rating                  1680                   1344"
      ]
     },
     "execution_count": 19,
     "metadata": {},
     "output_type": "execute_result"
    }
   ],
   "source": [
    "pd.DataFrame(confusion_matrix(y_test,lsvm_y_pred),columns=['Predicted Low Rating','Predicted High Rating'],index=['True Low Rating','True Higher Rating'])"
   ]
  },
  {
   "cell_type": "code",
   "execution_count": 15,
   "metadata": {
    "scrolled": true
   },
   "outputs": [
    {
     "name": "stdout",
     "output_type": "stream",
     "text": [
      "The linearSVC model accuarcy score was found to be:67.79548472775564\n"
     ]
    }
   ],
   "source": [
    "lsvm_acc_score = accuracy_score(y_test,lsvm_y_pred)\n",
    "print(f'The linearSVC model accuarcy score was found to be:{lsvm_acc_score*100}')"
   ]
  },
  {
   "cell_type": "code",
   "execution_count": 16,
   "metadata": {},
   "outputs": [
    {
     "name": "stdout",
     "output_type": "stream",
     "text": [
      "Log model Classification report:\n",
      "\n",
      "              precision    recall  f1-score   support\n",
      "\n",
      "           0       0.69      0.85      0.76      4506\n",
      "           1       0.66      0.42      0.51      3024\n",
      "\n",
      "    accuracy                           0.68      7530\n",
      "   macro avg       0.67      0.64      0.64      7530\n",
      "weighted avg       0.67      0.68      0.66      7530\n",
      "\n",
      "LinearSVM Model Classification Report:\n",
      "\n",
      "              precision    recall  f1-score   support\n",
      "\n",
      "           0       0.69      0.83      0.76      4506\n",
      "           1       0.64      0.44      0.53      3024\n",
      "\n",
      "    accuracy                           0.68      7530\n",
      "   macro avg       0.67      0.64      0.64      7530\n",
      "weighted avg       0.67      0.68      0.66      7530\n",
      "\n"
     ]
    }
   ],
   "source": [
    "#Classification Report of both final models \n",
    "print('Log model Classification report:')\n",
    "print('')\n",
    "print(classification_report(y_test,log_y_pred))\n",
    "print('LinearSVM Model Classification Report:')\n",
    "print('')\n",
    "print(classification_report(y_test,lsvm_y_pred))"
   ]
  },
  {
   "cell_type": "markdown",
   "metadata": {},
   "source": [
    "From all the analysis above, the classification report and both confusion matrix, it shows that the log model is better at predicting lower ratings games rather than the LinearSVM model and vise versa.\n",
    "\n",
    "Both models did well and had some better scores in other areas, but for this project I'm going to be using the LinearSVM model since it can predict more highly rated games than lower rated games much better."
   ]
  },
  {
   "cell_type": "code",
   "execution_count": 21,
   "metadata": {},
   "outputs": [
    {
     "data": {
      "text/plain": [
       "['Models/linearSVM_model.plk']"
      ]
     },
     "execution_count": 21,
     "metadata": {},
     "output_type": "execute_result"
    }
   ],
   "source": [
    "#dumped the lineanSVC model since it had a slightly better score \n",
    "joblib.dump(lsvm_final,'Models/linearSVM_model.plk')"
   ]
  },
  {
   "cell_type": "code",
   "execution_count": 22,
   "metadata": {},
   "outputs": [],
   "source": [
    "#Created a function which would allow the target summary to be the same as the final dataframe above\n",
    "def tokener(sentence):        \n",
    "    '''\n",
    "    DOC STRING\n",
    "    \n",
    "    Input: Takes a sentence which will remove punctuation marks, split on the words, and then stem\n",
    "    said word in order to vectorize it after\n",
    "    \n",
    "    Output: The original sentence with stemmed words as as series.\n",
    "    \n",
    "    \n",
    "    Example: \n",
    "    Input\n",
    "    tokener('With tenure, Suzie’d have all the more leisure for yachting, but her publications are no good')  \n",
    "    \n",
    "    Output\n",
    "    \n",
    "    0    tenur suzi leisur yacht public good\n",
    "    dtype: object\n",
    "    \n",
    "    '''\n",
    "    \n",
    "    \n",
    "    from nltk.stem import PorterStemmer\n",
    "    from nltk.corpus import stopwords\n",
    "    stemmer = PorterStemmer()\n",
    "    Stop_words = stopwords.words('english')\n",
    "    import re\n",
    "    \n",
    "    sentence = re.sub('[^a-zA-z0-9]',' ',sentence)\n",
    "    sentence = sentence.lower()\n",
    "            \n",
    "    words = sentence.split(' ')\n",
    "    listofstemmedwords = []\n",
    "    \n",
    "    for word in words:\n",
    "        if (word!='') and (word not in Stop_words):\n",
    "            stemmed_word = stemmer.stem(word)\n",
    "            listofstemmedwords.append(stemmed_word)\n",
    "    \n",
    "    complete = pd.Series(' '.join(listofstemmedwords))\n",
    "    \n",
    "    return complete"
   ]
  },
  {
   "cell_type": "code",
   "execution_count": 26,
   "metadata": {},
   "outputs": [],
   "source": [
    "# This function takes a summary of a game and predicts it rating score either a 1 for good rating or 0 for low rating\n",
    "def model_prediction(summary):\n",
    "    '''\n",
    "    DOC STRING\n",
    "    \n",
    "    Input: A string of a game summary.\n",
    "    \n",
    "    model_prediction('This is a test of the function')\n",
    "    \n",
    "    Output:\n",
    "    \n",
    "    Predicting Rating Score...\n",
    "    Predicted Score:[0]\n",
    "    \n",
    "    \n",
    "    '''\n",
    "    import joblib\n",
    "    import time\n",
    "    \n",
    "    summary = tokener(summary)\n",
    "    vectorizer = joblib.load('Models/tfidf_vectorizer.plk')\n",
    "    vectorized_summary = vectorizer.transform(summary)\n",
    "    scale = joblib.load('Models/StandardScaler.plk')\n",
    "    scaled_summary = scale.transform(vectorized_summary)\n",
    "    model = joblib.load('Models/linearSVM_model.plk')\n",
    "    model_score = model.predict(scaled_summary)\n",
    "    print('Predicting Rating Score...')\n",
    "    time.sleep(5)\n",
    "    \n",
    "    return(print(f'Predicted Score:{model_score}'))"
   ]
  },
  {
   "cell_type": "code",
   "execution_count": 30,
   "metadata": {},
   "outputs": [],
   "source": [
    "test =\"Welcome to the beautiful fantasy world of Teyvat. Step into a huge open-world of adventure and mystery, where heroic quests await. As a traveller from another world, you must find your lost sibling and unravel Teyvat's many secrets. Joined by Paimon, a kind-hearted sprite guide, your mission takes you through beautiful forests, bustling towns, and treacherous dungeons. And while your journey may put you into the path of merciless foes and fiendish puzzles you can count on numerous playable allies to join your custom party of four, harnessing the power of the elements to overcome all obstacles. Key Features: Explore Teyvat however you want Fly across the open-world, swim in a massive sea, climb mountains, and stray off the beaten path. Whether you decide to follow the storyline or just enjoy the gorgeous environment, Teyvat is yours to discover. Add up to four party members Choose who fights by your side, with over 30 characters to meet and create your party witheach possessing different abilities, personalities, and combat styles. Will you pick Jean, the acting grand master of the knights? Or Lisa, a witch harnessing the raw force of lightning? Master the seven elements Control and combine Pyro, Hydro, Electro, Anemo, Dendro, Cryo, and Geo to solve challenging puzzles and unleash powerful attacks. Travel alone or hunt together Charge head-on into battles by yourself, or invite your friends to join the fight against dangerous monsters, and discover the secrets of this vast world together.\""
   ]
  },
  {
   "cell_type": "code",
   "execution_count": 29,
   "metadata": {},
   "outputs": [
    {
     "name": "stdout",
     "output_type": "stream",
     "text": [
      "Predicting Rating Score...\n",
      "Predicted Score:[0]\n"
     ]
    }
   ],
   "source": [
    "model_prediction(test)"
   ]
  }
 ],
 "metadata": {
  "kernelspec": {
   "display_name": "Python 3",
   "language": "python",
   "name": "python3"
  },
  "language_info": {
   "codemirror_mode": {
    "name": "ipython",
    "version": 3
   },
   "file_extension": ".py",
   "mimetype": "text/x-python",
   "name": "python",
   "nbconvert_exporter": "python",
   "pygments_lexer": "ipython3",
   "version": "3.7.6"
  }
 },
 "nbformat": 4,
 "nbformat_minor": 4
}
